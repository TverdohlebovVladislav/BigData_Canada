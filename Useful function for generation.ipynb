{
 "cells": [
  {
   "cell_type": "code",
   "execution_count": 30,
   "id": "72bd963a",
   "metadata": {},
   "outputs": [],
   "source": [
    "import numpy as np\n",
    "import pandas as pd\n",
    "import random\n",
    "import matplotlib.pyplot as plt"
   ]
  },
  {
   "cell_type": "code",
   "execution_count": 31,
   "id": "4b85837c",
   "metadata": {},
   "outputs": [
    {
     "name": "stdout",
     "output_type": "stream",
     "text": [
      "9.28 ms ± 322 µs per loop (mean ± std. dev. of 7 runs, 100 loops each)\n"
     ]
    }
   ],
   "source": [
    "%%timeit\n",
    "random_list = []\n",
    "for i in range(10000):\n",
    "    random_list.append(random.randint(10,20))"
   ]
  },
  {
   "cell_type": "code",
   "execution_count": 32,
   "id": "d41ed5c5",
   "metadata": {},
   "outputs": [
    {
     "name": "stdout",
     "output_type": "stream",
     "text": [
      "134 µs ± 752 ns per loop (mean ± std. dev. of 7 runs, 10000 loops each)\n"
     ]
    }
   ],
   "source": [
    "%%timeit\n",
    "random_int = np.random.randint(10,20, size=10000)"
   ]
  },
  {
   "cell_type": "code",
   "execution_count": 33,
   "id": "01d52a37",
   "metadata": {},
   "outputs": [
    {
     "data": {
      "text/plain": [
       "array([[0.92571501],\n",
       "       [0.39661122],\n",
       "       [0.25935184],\n",
       "       [0.41088371],\n",
       "       [0.03750066],\n",
       "       [0.22880183],\n",
       "       [0.33316667],\n",
       "       [0.05776961],\n",
       "       [0.10166744],\n",
       "       [0.30874765]])"
      ]
     },
     "execution_count": 33,
     "metadata": {},
     "output_type": "execute_result"
    }
   ],
   "source": [
    "#numpy allows to generate numbers \n",
    "random_array = np.random.rand(10,1)\n",
    "random_array"
   ]
  },
  {
   "cell_type": "code",
   "execution_count": 34,
   "id": "aecaea88",
   "metadata": {},
   "outputs": [
    {
     "data": {
      "text/plain": [
       "array([8, 7, 5, 3, 6, 7, 3, 9, 7, 2, 1, 9, 2, 7, 4, 7, 2, 4, 1, 4, 8, 2,\n",
       "       2, 6, 6, 8, 5, 8, 4, 9])"
      ]
     },
     "execution_count": 34,
     "metadata": {},
     "output_type": "execute_result"
    }
   ],
   "source": [
    "#numpy allows to generate numbers \n",
    "random_int = np.random.randint(1,10, size=30)\n",
    "random_int"
   ]
  },
  {
   "cell_type": "markdown",
   "id": "4397bb08",
   "metadata": {},
   "source": [
    "#### Как сгенерировать людей из разных городов, чтобы выборка была похожа на реальность."
   ]
  },
  {
   "cell_type": "code",
   "execution_count": 36,
   "id": "a8279bca",
   "metadata": {},
   "outputs": [],
   "source": [
    "cities = {'Moscow':20000, 'Piter':8000, 'Voronezh': 1000}\n",
    "map_cities = {i : city for i, city in enumerate(cities.keys())}\n",
    "sum_population = sum(i for i in cities.values())\n",
    "citi_probabilities = [i/sum_population for i in cities.values()]\n"
   ]
  },
  {
   "cell_type": "code",
   "execution_count": 37,
   "id": "bf590448",
   "metadata": {},
   "outputs": [
    {
     "data": {
      "text/plain": [
       "{0: 'Moscow', 1: 'Piter', 2: 'Voronezh'}"
      ]
     },
     "execution_count": 37,
     "metadata": {},
     "output_type": "execute_result"
    }
   ],
   "source": [
    "map_cities"
   ]
  },
  {
   "cell_type": "code",
   "execution_count": 41,
   "id": "05340379",
   "metadata": {},
   "outputs": [
    {
     "data": {
      "text/plain": [
       "Moscow      683\n",
       "Piter       282\n",
       "Voronezh     35\n",
       "dtype: int64"
      ]
     },
     "execution_count": 41,
     "metadata": {},
     "output_type": "execute_result"
    }
   ],
   "source": [
    "realistic_probas = np.random.choice(np.arange(3), size=1000, p=citi_probabilities)\n",
    "pd.Series(realistic_probas).map(map_cities).value_counts()\n"
   ]
  },
  {
   "cell_type": "markdown",
   "id": "94a87c40",
   "metadata": {},
   "source": [
    "#### Как сделать интересные числовые распределения.  Пример с распределением звонков."
   ]
  },
  {
   "cell_type": "code",
   "execution_count": 39,
   "id": "a365eb1d",
   "metadata": {},
   "outputs": [],
   "source": [
    "first_part = np.random.normal(loc=10, scale=2.5, size=1000)\n",
    "second_part = np.random.normal(loc=18, scale=2.5, size=800)\n",
    "third_part = np.random.uniform(size=500, high=24)\n",
    "all_together = np.concatenate([first_part, second_part, third_part])\n",
    "all_together = all_together[(all_together<24) & (all_together >=0)]\n",
    "np.random.shuffle(all_together)"
   ]
  },
  {
   "cell_type": "code",
   "execution_count": 40,
   "id": "e079081c",
   "metadata": {},
   "outputs": [
    {
     "data": {
      "image/png": "[encoded data removed]",
      "text/plain": [
       "<Figure size 432x288 with 1 Axes>"
      ]
     },
     "metadata": {
      "needs_background": "light"
     },
     "output_type": "display_data"
    }
   ],
   "source": [
    "plt.hist(all_together, bins=24);"
   ]
  },
  {
   "cell_type": "markdown",
   "id": "0dbb4a9b",
   "metadata": {},
   "source": []
  },
  {
   "cell_type": "markdown",
   "id": "1682576e",
   "metadata": {},
   "source": [
    "У Numpy есть еще множество распределений, не стесняйтесь использовать их."
   ]
  },
  {
   "cell_type": "markdown",
   "id": "54f3592e",
   "metadata": {},
   "source": [
    "Советы:\n",
    "1) Не обязательно всю таблицу генерить за один раз. Можно сгенерить сначала какие-то обязательные тарифы, а потом случайно докинуть доп услуги.\n",
    "\n",
    "\n",
    "2) Подумайте какие поля зависят между собой. Соответственно, что вам прощe сгенерить вначале, а что потом с некоторой зависимостью от уже сгенеренных полей. Можно сгенерить скелет одной таблицы, потом на основе ее заполнить другую, а потом вернуться и уже окончательно доделать первую.\n",
    "\n",
    "3) не забывайте гуглить. многие распределения сначала можно найти, а потом постепенно подгонять.\n",
    "\n",
    "4) Первую итерацию лучше сделать пораньше, чтобы не задерживать остальные вещи. Т.к. набор полей фиксированный, то после улучшения генерации, можно будет подменить файл."
   ]
  }
 ],
 "metadata": {
  "kernelspec": {
   "display_name": "Python 3",
   "language": "python",
   "name": "python3"
  },
  "language_info": {
   "codemirror_mode": {
    "name": "ipython",
    "version": 3
   },
   "file_extension": ".py",
   "mimetype": "text/x-python",
   "name": "python",
   "nbconvert_exporter": "python",
   "pygments_lexer": "ipython3",
   "version": "3.8.8"
  }
 },
 "nbformat": 4,
 "nbformat_minor": 5
}
